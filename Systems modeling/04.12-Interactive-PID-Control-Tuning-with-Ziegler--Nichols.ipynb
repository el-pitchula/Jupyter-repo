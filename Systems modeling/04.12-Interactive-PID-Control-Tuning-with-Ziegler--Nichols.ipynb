{
 "cells": [
  {
   "cell_type": "markdown",
   "metadata": {},
   "source": [
    "<!--NOTEBOOK_HEADER-->\n",
    "*This notebook contains course material from [CBE30338](https://jckantor.github.io/CBE30338)\n",
    "by Jeffrey Kantor (jeff at nd.edu); the content is available [on Github](https://github.com/jckantor/CBE30338.git).\n",
    "The text is released under the [CC-BY-NC-ND-4.0 license](https://creativecommons.org/licenses/by-nc-nd/4.0/legalcode),\n",
    "and code is released under the [MIT license](https://opensource.org/licenses/MIT).*"
   ]
  },
  {
   "cell_type": "markdown",
   "metadata": {},
   "source": [
    "<!--NAVIGATION-->\n",
    "< [Implementing PID Control in Nonlinear Simulations](http://nbviewer.jupyter.org/github/jckantor/CBE30338/blob/master/notebooks/04.11-Implementing-PID-Control-in-Nonlinear-Simulations.ipynb) | [Contents](toc.ipynb) | [Frequency Domain Control Design](http://nbviewer.jupyter.org/github/jckantor/CBE30338/blob/master/notebooks/05.00-Frequency-Domain-Control-Design.ipynb) ><p><a href=\"https://colab.research.google.com/github/jckantor/CBE30338/blob/master/notebooks/04.12-Interactive-PID-Control-Tuning-with-Ziegler--Nichols.ipynb\"><img align=\"left\" src=\"https://colab.research.google.com/assets/colab-badge.svg\" alt=\"Open in Colab\" title=\"Open in Google Colaboratory\"></a><p><a href=\"https://raw.githubusercontent.com/jckantor/CBE30338/master/notebooks/04.12-Interactive-PID-Control-Tuning-with-Ziegler--Nichols.ipynb\"><img align=\"left\" src=\"https://img.shields.io/badge/Github-Download-blue.svg\" alt=\"Download\" title=\"Download Notebook\"></a>"
   ]
  },
  {
   "cell_type": "markdown",
   "metadata": {},
   "source": [
    "# Interactive PID Control Tuning with  Ziegler-Nichols"
   ]
  },
  {
   "cell_type": "markdown",
   "metadata": {},
   "source": [
    "## Summary\n",
    "\n",
    "This notebook demonstrates methods for tuning PID controllers using Ziegler-Nichols and other tuning rules."
   ]
  },
  {
   "cell_type": "markdown",
   "metadata": {},
   "source": [
    "## Notebook Initialization"
   ]
  },
  {
   "cell_type": "code",
   "execution_count": 2,
   "metadata": {},
   "outputs": [
    {
     "name": "stdout",
     "output_type": "stream",
     "text": [
      "Collecting control\n",
      "  Downloading control-0.10.1-py3-none-any.whl.metadata (7.6 kB)\n",
      "Requirement already satisfied: numpy>=1.23 in c:\\users\\jaysa.sousa\\appdata\\local\\anaconda3\\lib\\site-packages (from control) (1.26.4)\n",
      "Requirement already satisfied: scipy>=1.8 in c:\\users\\jaysa.sousa\\appdata\\local\\anaconda3\\lib\\site-packages (from control) (1.13.1)\n",
      "Requirement already satisfied: matplotlib>=3.6 in c:\\users\\jaysa.sousa\\appdata\\local\\anaconda3\\lib\\site-packages (from control) (3.8.4)\n",
      "Requirement already satisfied: contourpy>=1.0.1 in c:\\users\\jaysa.sousa\\appdata\\local\\anaconda3\\lib\\site-packages (from matplotlib>=3.6->control) (1.2.0)\n",
      "Requirement already satisfied: cycler>=0.10 in c:\\users\\jaysa.sousa\\appdata\\local\\anaconda3\\lib\\site-packages (from matplotlib>=3.6->control) (0.11.0)\n",
      "Requirement already satisfied: fonttools>=4.22.0 in c:\\users\\jaysa.sousa\\appdata\\local\\anaconda3\\lib\\site-packages (from matplotlib>=3.6->control) (4.51.0)\n",
      "Requirement already satisfied: kiwisolver>=1.3.1 in c:\\users\\jaysa.sousa\\appdata\\local\\anaconda3\\lib\\site-packages (from matplotlib>=3.6->control) (1.4.4)\n",
      "Requirement already satisfied: packaging>=20.0 in c:\\users\\jaysa.sousa\\appdata\\roaming\\python\\python312\\site-packages (from matplotlib>=3.6->control) (24.1)\n",
      "Requirement already satisfied: pillow>=8 in c:\\users\\jaysa.sousa\\appdata\\local\\anaconda3\\lib\\site-packages (from matplotlib>=3.6->control) (10.3.0)\n",
      "Requirement already satisfied: pyparsing>=2.3.1 in c:\\users\\jaysa.sousa\\appdata\\local\\anaconda3\\lib\\site-packages (from matplotlib>=3.6->control) (3.0.9)\n",
      "Requirement already satisfied: python-dateutil>=2.7 in c:\\users\\jaysa.sousa\\appdata\\roaming\\python\\python312\\site-packages (from matplotlib>=3.6->control) (2.9.0.post0)\n",
      "Requirement already satisfied: six>=1.5 in c:\\users\\jaysa.sousa\\appdata\\roaming\\python\\python312\\site-packages (from python-dateutil>=2.7->matplotlib>=3.6->control) (1.16.0)\n",
      "Downloading control-0.10.1-py3-none-any.whl (549 kB)\n",
      "   ---------------------------------------- 0.0/549.6 kB ? eta -:--:--\n",
      "    --------------------------------------- 10.2/549.6 kB ? eta -:--:--\n",
      "    --------------------------------------- 10.2/549.6 kB ? eta -:--:--\n",
      "   -- ------------------------------------ 41.0/549.6 kB 388.9 kB/s eta 0:00:02\n",
      "   -------------- ------------------------- 194.6/549.6 kB 1.3 MB/s eta 0:00:01\n",
      "   ---------------------- ----------------- 307.2/549.6 kB 1.5 MB/s eta 0:00:01\n",
      "   ---------------------------- ----------- 389.1/549.6 kB 1.7 MB/s eta 0:00:01\n",
      "   ---------------------------- ----------- 389.1/549.6 kB 1.7 MB/s eta 0:00:01\n",
      "   -------------------------------------- - 522.2/549.6 kB 1.6 MB/s eta 0:00:01\n",
      "   ---------------------------------------  542.7/549.6 kB 1.5 MB/s eta 0:00:01\n",
      "   ---------------------------------------- 549.6/549.6 kB 1.3 MB/s eta 0:00:00\n",
      "Installing collected packages: control\n",
      "Successfully installed control-0.10.1\n",
      "Note: you may need to restart the kernel to use updated packages.\n"
     ]
    }
   ],
   "source": [
    "pip install control"
   ]
  },
  {
   "cell_type": "code",
   "execution_count": 3,
   "metadata": {},
   "outputs": [],
   "source": [
    "%matplotlib inline\n",
    "import numpy as np\n",
    "import matplotlib.pyplot as plt\n",
    "import control.matlab as control"
   ]
  },
  {
   "cell_type": "markdown",
   "metadata": {},
   "source": [
    "## Block Diagram of the Closed-Loop Control System\n",
    "\n",
    "The task is to design and tune a PID controller for the closed-loop block shown in the figure below with signal descriptions given in the following table:\n",
    "\n",
    "| Signal | Description |\n",
    "| :----: | :---------- |\n",
    "| $u$    | command to manipulated variable |\n",
    "| $d$    | disturbance variable input |\n",
    "| $y$    | controlled varable process output |\n",
    "| $r$    | controlled variable setpoint |\n",
    "\n",
    "Transfer functions corresponding to the valve dynamics $G_v(s)$, the process transfer function $G_p(s)$, the disturbance transfer function $G_d(s)$ and measurement transfer function $G_m(s)$ are specified in subsequent cells.\n",
    "\n",
    "![figures/controlloop.png](figures/controlloop.png)"
   ]
  },
  {
   "cell_type": "markdown",
   "metadata": {},
   "source": [
    "### Process Transfer Functions\n",
    "\n",
    "Valve dynamics:\n",
    "$$G_v(s) = \\frac{1}{2s + 1}$$\n",
    "\n",
    "Process dynamics:\n",
    "$$G_p(s) = \\frac{1}{5s + 1}$$\n",
    "\n",
    "Disturbance dynamics:\n",
    "$$G_d(s) = \\frac{1}{5s + 1}$$\n"
   ]
  },
  {
   "cell_type": "code",
   "execution_count": 4,
   "metadata": {},
   "outputs": [
    {
     "name": "stdout",
     "output_type": "stream",
     "text": [
      "<TransferFunction>: sys[0]\n",
      "Inputs (1): ['u[0]']\n",
      "Outputs (1): ['y[0]']\n",
      "\n",
      "\n",
      "   1\n",
      "-------\n",
      "2 s + 1\n",
      " <TransferFunction>: sys[1]\n",
      "Inputs (1): ['u[0]']\n",
      "Outputs (1): ['y[0]']\n",
      "\n",
      "\n",
      "   1\n",
      "-------\n",
      "5 s + 1\n",
      " <TransferFunction>: sys[2]\n",
      "Inputs (1): ['u[0]']\n",
      "Outputs (1): ['y[0]']\n",
      "\n",
      "\n",
      "   1\n",
      "-------\n",
      "5 s + 1\n",
      "\n"
     ]
    }
   ],
   "source": [
    "Gv = control.tf([1],[2,1])\n",
    "Gp = control.tf([1],[5,1])\n",
    "Gd = control.tf([1],[5,1])\n",
    "print(Gv,Gp,Gd)"
   ]
  },
  {
   "cell_type": "markdown",
   "metadata": {},
   "source": [
    "### Measurement Transfer Function\n",
    "\n",
    "The measurement consists of a pure time delay of 1 minute modeled by the transfer function \n",
    "\n",
    "$$G_m(s) = e^{-\\tau_d s}$$\n",
    "\n",
    "where $\\tau_d = 1$. The python control library does not currently incorporate time delays modeled by exponentials, therefore an approximation is necessary. The first order Pade approximation is given by\n",
    "\n",
    "$$e^{-\\tau_d s} \\approx \\frac{-\\frac{\\tau_d}{2}s + 1}{\\frac{\\tau_d}{2}s + 1}$$\n",
    "\n",
    "This is implemented in the python control library by the function `pade(tdelay,norder)` where `tdelay` is the length of the time delay, and `norder` is the order of approximation."
   ]
  },
  {
   "cell_type": "code",
   "execution_count": 3,
   "metadata": {},
   "outputs": [
    {
     "name": "stdout",
     "output_type": "stream",
     "text": [
      "\n",
      "-s + 2\n",
      "------\n",
      "s + 2\n",
      "\n"
     ]
    }
   ],
   "source": [
    "tdelay = 1\n",
    "norder = 1\n",
    "num,den = control.pade(tdelay,norder)\n",
    "Gm = control.tf(num,den)\n",
    "print(Gm)"
   ]
  },
  {
   "cell_type": "markdown",
   "metadata": {},
   "source": [
    "### Proportional-Integral (PI) Control\n",
    "\n",
    "The classical form for PI control is given by \n",
    "\n",
    "$$G_c(s) = K_c\\left(1 + \\frac{1}{\\tau_I s}\\right)$$\n",
    "\n",
    "where $K_c$ is the proportional control gain, and $\\tau_I$ in the integrator time constant. Note the making $K_c$ very small is equivalent to turning off the controller, while making $\\tau_I$ very large is equivalent to turning off just the integrating portion of the controller.\n",
    "\n",
    "In the transfer function format\n",
    "\n",
    "$$G_c(s) = K_c\\frac{\\tau_I s + 1}{\\tau_I s + 0}$$"
   ]
  },
  {
   "cell_type": "code",
   "execution_count": 4,
   "metadata": {},
   "outputs": [
    {
     "name": "stdout",
     "output_type": "stream",
     "text": [
      "\n",
      "100 s + 1\n",
      "---------\n",
      "  100 s\n",
      "\n"
     ]
    }
   ],
   "source": [
    "Kc = 1\n",
    "tauI = 100\n",
    "\n",
    "Gc = Kc*control.tf([tauI,1],[tauI,0])\n",
    "print(Gc)"
   ]
  },
  {
   "cell_type": "markdown",
   "metadata": {},
   "source": [
    "## Closed-Loop Transfer Functions"
   ]
  },
  {
   "cell_type": "markdown",
   "metadata": {},
   "source": [
    "### Definitions\n",
    "\n",
    "The task we're given is to choose the parameters for a P, PI, or PID controller that result in the good system response. How do we determine if the system response is good or not?\n",
    "\n",
    "The key to this analysis is to consider a set of four responses\n",
    "\n",
    "| Response | Transfer function | Description |\n",
    "| :------: | :---------------: | :---------- |\n",
    "| $r \\rightarrow y$ | $H_{yr}$ | output response to a setpoint change (ideally 1) |\n",
    "| $d \\rightarrow y$ | $H_{yd}$ | output response to a disturbance (ideally 0) |\n",
    "| $r \\rightarrow u$ | $H_{ur}$ | manipulated variable response to a setpoint change |\n",
    "| $d \\rightarrow u$ | $H_{ud}$ | manipulated variable resposne to a disturbance |\n",
    "\n",
    "Only by examining all four of these can you reach a determination of whether the controller does a good job with respect to both setpoint tracking and disturbance rejection, and that it acheives good output control without excessive or unacceptable changes in the manipulated variable.\n",
    "\n",
    "The notation use $H$ to designate a closed-loop transfer function and subscripts to indicate the particular pairing of system inputs and outputs. The subscripts correspond to the row and column indices in a matrix equation\n",
    "\n",
    "$$\\left[\\begin{array}{c} y \\\\ u \\end{array}\\right] =\n",
    "\\left[\\begin{array}{cc} H_{yr} & H_{yd} \\\\ H_{ur} & H_{ud} \\end{array}\\right]\n",
    "\\left[\\begin{array}{c} r \\\\ d \\end{array}\\right]$$\n",
    "\n",
    "For the closed-loop block diagram shown above, the closed-loop transfer functions are given by\n",
    "\n",
    "$$H_{yr} = \\frac{G_p G_v G_c}{1 + G_p G_v G_c G_m}$$\n",
    "\n",
    "$$H_{yd} = \\frac{G_d}{1 + G_p G_v G_c G_m}$$\n",
    "\n",
    "$$H_{ur} = \\frac{G_c}{1 + G_c G_m G_p G_v}$$\n",
    "\n",
    "$$H_{ud} = -\\frac{G_c G_m G_d}{1 + G_c G_m G_p G_v}$$"
   ]
  },
  {
   "cell_type": "code",
   "execution_count": 5,
   "metadata": {},
   "outputs": [],
   "source": [
    "Hyr = Gp*Gv*Gc/(1+Gp*Gv*Gc*Gm)\n",
    "Hyd = Gd/(1+Gp*Gv*Gc*Gm)\n",
    "Hur = Gc/(1+Gc*Gm*Gp*Gv)\n",
    "Hud = -Gc*Gm*Gd/(1+Gc*Gm*Gp*Gv)"
   ]
  },
  {
   "cell_type": "markdown",
   "metadata": {},
   "source": [
    "### Interactive Simulation"
   ]
  },
  {
   "cell_type": "code",
   "execution_count": 6,
   "metadata": {},
   "outputs": [],
   "source": [
    "def sim(Kc = 1, tauI = 1000):\n",
    "    Gc =  Kc*control.tf([tauI,1],[tauI,0])\n",
    "    \n",
    "    Hyr = Gp*Gv*Gc/(1+Gp*Gv*Gc*Gm)\n",
    "    Hyd = Gd/(1+Gp*Gv*Gc*Gm)\n",
    "    Hur = Gc/(1+Gc*Gm*Gp*Gv)\n",
    "    Hud = -Gc*Gm*Gd/(1+Gc*Gm*Gp*Gv)\n",
    "\n",
    "    t = np.linspace(0,25,1000)\n",
    "\n",
    "    plt.figure(figsize=(12,6))\n",
    "\n",
    "    plt.subplot(2,2,1)\n",
    "    y,t = control.step(Hyr,t)\n",
    "    plt.plot(t,y)\n",
    "    plt.ylim(-0.5,2.2)\n",
    "    plt.title('output response due to step setpoint')\n",
    "    plt.ylabel('y')\n",
    "\n",
    "    plt.subplot(2,2,2)\n",
    "    y,t = control.step(Hyd,t)\n",
    "    plt.plot(t,y)\n",
    "    plt.ylim(-0.5,2.2)\n",
    "    plt.title('output response due to a step disturbance')\n",
    "    plt.ylabel('y')\n",
    "\n",
    "    plt.subplot(2,2,3)\n",
    "    u,t = control.step(Hur,t)\n",
    "    plt.plot(t,u)\n",
    "    plt.ylim(-1.5,1.5)\n",
    "    plt.title('manipulated variable response due to step setpoint')\n",
    "    plt.ylabel('u')\n",
    "\n",
    "    plt.subplot(2,2,4)\n",
    "    u,t = control.step(Hud,t)\n",
    "    plt.plot(t,u)\n",
    "    plt.ylim(-1.5,1.5)\n",
    "    plt.title('manipulated variable response due to a step disturbance')\n",
    "    plt.ylabel('u')\n",
    "\n",
    "    plt.tight_layout()"
   ]
  },
  {
   "cell_type": "code",
   "execution_count": 7,
   "metadata": {},
   "outputs": [
    {
     "data": {
      "application/vnd.jupyter.widget-view+json": {
       "model_id": "3149c592eb9b45e8a2173e3915db224c",
       "version_major": 2,
       "version_minor": 0
      },
      "text/plain": [
       "interactive(children=(FloatSlider(value=1.0, description='Kc', max=10.0, min=0.1), FloatSlider(value=25.0, des…"
      ]
     },
     "metadata": {},
     "output_type": "display_data"
    }
   ],
   "source": [
    "from ipywidgets import interact, fixed\n",
    "interact(sim,Kc = (0.1,10,0.1),tauI=(0.1,25,1));"
   ]
  },
  {
   "cell_type": "markdown",
   "metadata": {},
   "source": [
    "## 3. Control Tuning Procedures\n",
    "\n",
    "Tuning rules are a frequently used method for selecting the parameters for Proportional, Proportional-Integral, and Proportional-Integral-Derivative control. The procedures for the Ziegler-Nichols and Tyreus-Luyben tuning rules are as follows:\n",
    "\n",
    "1. Begin with the controller turned on in proportional only mode.  This can be acheived by setting $\\tau_D = 0$ and $\\tau_I$ to the maximum possible value.\n",
    "\n",
    "2. Increase the proportional gain $K_c$ until you observe continuous cycling in response to a disturbance or setpoint adjustment.  Continous cycling is the boundary between stable and unstable process response. The cycling should have constant amplitude that is neither increasing or descreasing in time. The value of $K_c$ at which you observe continuous cycling is the **ulitmate gain** $K_{cu}$.  The period of the corresponding oscillation is $P_u$ and called the **ultimate period**.\n",
    "\n",
    "3. Having obtained values for $K_{cu}$ and $P_u$, select the type of control to use, and set parameters usign either the Ziegler-Nichols (agressive, tends to be underdamped) or Tyreus-Luyben (tends to be more appropriate for large scale chemcial processes).\n",
    "\n",
    "4. Test the closed-loop controlled system response to typical process disturbances and setpoint adjustments. Retune as necessary.\n",
    "\n",
    "To demonstrate, we used the interactive simulation to determine the ultimate gain and period. The ultimate gain $K_{cu} = 8.1$ and $P_u = 8$."
   ]
  },
  {
   "cell_type": "code",
   "execution_count": 8,
   "metadata": {},
   "outputs": [
    {
     "data": {
      "application/vnd.jupyter.widget-view+json": {
       "model_id": "7a750c628b74436b8ac42baebc8127f1",
       "version_major": 2,
       "version_minor": 0
      },
      "text/plain": [
       "interactive(children=(Output(),), _dom_classes=('widget-interact',))"
      ]
     },
     "metadata": {},
     "output_type": "display_data"
    }
   ],
   "source": [
    "from ipywidgets import fixed\n",
    "interact(sim,Kc = fixed(8.1), tauI=fixed(1000));"
   ]
  },
  {
   "cell_type": "markdown",
   "metadata": {},
   "source": [
    "### Ziegler-Nichols\n",
    "\n",
    "One of the best known set of tuning rules was developed by J. G. Ziegler and N. B. Nichols in 1942 when they working for the Taylor Instrument Company in Rochester, NY.  The rules are summarized as\n",
    "\n",
    "| Control | $K_c$         | $\\tau_I$          | $\\tau_D$        |\n",
    "| :-----: | :-----------: | :---------------: | :-------------: |\n",
    "| P       | $0.5 K_{cu}$  | -                 | -               |\n",
    "| PI      | $0.45 K_{cu}$ | $\\frac{P_u}{1.2}$ | -               |\n",
    "| PID     | $0.6 K_{cu}$  | $\\frac{P_u}{2}$   | $\\frac{P_u}{8}$ |\n",
    "\n",
    "For the given example, assuming PI control,\n",
    "\n",
    "$$K_c = 0.45 K_{cu} = 0.45 \\times 8.1 = 3.6$$\n",
    "\n",
    "$$\\tau_I = P_u/1.2 = 8/1.2 = 6.7$$\n",
    "\n",
    "These rules will typically yield a decay ratio of about 25%, which is generally a bit too aggressive for most large scale chemical process applications.\n"
   ]
  },
  {
   "cell_type": "code",
   "execution_count": 9,
   "metadata": {},
   "outputs": [
    {
     "data": {
      "application/vnd.jupyter.widget-view+json": {
       "model_id": "9a432cce9d414005a04ebae397809665",
       "version_major": 2,
       "version_minor": 0
      },
      "text/plain": [
       "interactive(children=(Output(),), _dom_classes=('widget-interact',))"
      ]
     },
     "metadata": {},
     "output_type": "display_data"
    }
   ],
   "source": [
    "interact(sim,Kc = fixed(3.6), tauI=fixed(6.7));"
   ]
  },
  {
   "cell_type": "markdown",
   "metadata": {},
   "source": [
    "### Tyreus-Luyben\n",
    "\n",
    "The Ziegler-Nichols tuning rules are generally regarded as too aggressive for most process control applications. In 1992, based on collaborative research between the Dow Chemical Company and Lehigh University, Bjorn Tyreus and William Luyben proposed the following modification for the traditional tuning rules.\n",
    "\n",
    "| Control | $K_c$         | $\\tau_I$     | $\\tau_D$          |\n",
    "| :-----: | :-----------: | :----------: | :---------------: |\n",
    "| PI      | $0.31 K_{cu}$ | $2.2 P_u$    | -                 |\n",
    "| PID     | $0.45 K_{cu}$  | $2.2 P_u$   | $\\frac{P_u}{6.3}$ |\n",
    "\n",
    "For the given example, assuming PI control,\n",
    "\n",
    "$$K_c = 0.31 K_{cu} = 0.31 \\times 8.1 = 2.5$$\n",
    "\n",
    "$$\\tau_I = 2.2 P_u = 2.2 \\times 8 = 17.6$$"
   ]
  },
  {
   "cell_type": "code",
   "execution_count": 10,
   "metadata": {},
   "outputs": [
    {
     "data": {
      "application/vnd.jupyter.widget-view+json": {
       "model_id": "3ebb79c160f44841a9211b9d1acc8154",
       "version_major": 2,
       "version_minor": 0
      },
      "text/plain": [
       "interactive(children=(Output(),), _dom_classes=('widget-interact',))"
      ]
     },
     "metadata": {},
     "output_type": "display_data"
    }
   ],
   "source": [
    "from ipywidgets import fixed\n",
    "interact(sim,Kc = fixed(2.5), tauI=fixed(17.6));"
   ]
  },
  {
   "cell_type": "markdown",
   "metadata": {},
   "source": [
    "## Exercises"
   ]
  },
  {
   "cell_type": "markdown",
   "metadata": {},
   "source": [
    "### Exercise: PID Control\n",
    "\n",
    "Modify the simulation to include a three parameter PID control of the form\n",
    "\n",
    "$$G_c(s) = K_c\\left(1 + \\frac{1}{\\tau_Is} + \\frac{\\tau_Ds}{\\frac{\\tau_D}{N} s + 1}\\right)$$\n",
    "\n",
    "where $N = 10$. This formulation is needed to avoid a transfer function with a numerator polynomial that is higher order than the denominator polynomial as required by the Python Control Library."
   ]
  },
  {
   "cell_type": "markdown",
   "metadata": {},
   "source": [
    "### Exercise: Alternative Tuning Rules\n",
    "\n",
    "There are wide variety of recommended tuning rules, including several mentioned on the [Wikipedia page describing the Ziegler-Nichols method](https://en.wikipedia.org/wiki/Ziegler%E2%80%93Nichols_method). Test these to see if they perform as expected. Can you draw any general conclusions about the superiority of one method to another?"
   ]
  },
  {
   "cell_type": "markdown",
   "metadata": {},
   "source": [
    "## References\n",
    "\n",
    "1. Tyreus, Bjorn D., and William L. Luyben. \"Tuning PI controllers for integrator/dead time processes.\" Industrial & Engineering Chemistry Research 31.11 (1992): 2625-2628.\n",
    "\n",
    "2. Ziegler, John G., and Nathaniel B. Nichols. \"Optimum settings for automatic controllers.\" trans. ASME 64.11 (1942)."
   ]
  },
  {
   "cell_type": "code",
   "execution_count": null,
   "metadata": {
    "collapsed": true
   },
   "outputs": [],
   "source": []
  },
  {
   "cell_type": "markdown",
   "metadata": {},
   "source": [
    "<!--NAVIGATION-->\n",
    "< [Implementing PID Control in Nonlinear Simulations](http://nbviewer.jupyter.org/github/jckantor/CBE30338/blob/master/notebooks/04.11-Implementing-PID-Control-in-Nonlinear-Simulations.ipynb) | [Contents](toc.ipynb) | [Frequency Domain Control Design](http://nbviewer.jupyter.org/github/jckantor/CBE30338/blob/master/notebooks/05.00-Frequency-Domain-Control-Design.ipynb) ><p><a href=\"https://colab.research.google.com/github/jckantor/CBE30338/blob/master/notebooks/04.12-Interactive-PID-Control-Tuning-with-Ziegler--Nichols.ipynb\"><img align=\"left\" src=\"https://colab.research.google.com/assets/colab-badge.svg\" alt=\"Open in Colab\" title=\"Open in Google Colaboratory\"></a><p><a href=\"https://raw.githubusercontent.com/jckantor/CBE30338/master/notebooks/04.12-Interactive-PID-Control-Tuning-with-Ziegler--Nichols.ipynb\"><img align=\"left\" src=\"https://img.shields.io/badge/Github-Download-blue.svg\" alt=\"Download\" title=\"Download Notebook\"></a>"
   ]
  }
 ],
 "metadata": {
  "kernelspec": {
   "display_name": "Python 3",
   "language": "python",
   "name": "python3"
  },
  "language_info": {
   "codemirror_mode": {
    "name": "ipython",
    "version": 3
   },
   "file_extension": ".py",
   "mimetype": "text/x-python",
   "name": "python",
   "nbconvert_exporter": "python",
   "pygments_lexer": "ipython3",
   "version": "3.12.4"
  },
  "widgets": {
   "state": {
    "216effa677984970b9c45bfb0c77d87a": {
     "views": [
      {
       "cell_index": 19
      }
     ]
    },
    "60b270e79b0d492d86be63b72c036441": {
     "views": [
      {
       "cell_index": 17
      }
     ]
    },
    "7ed9410bee9b43c48437f65b4ef66389": {
     "views": [
      {
       "cell_index": 15
      }
     ]
    },
    "9a0ad313bc094726a34aa94cebb83458": {
     "views": [
      {
       "cell_index": 13
      }
     ]
    }
   },
   "version": "1.2.0"
  }
 },
 "nbformat": 4,
 "nbformat_minor": 2
}
