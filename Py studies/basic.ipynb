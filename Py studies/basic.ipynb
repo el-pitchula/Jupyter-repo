{
 "cells": [
  {
   "cell_type": "markdown",
   "metadata": {},
   "source": [
    "Operadores"
   ]
  },
  {
   "cell_type": "code",
   "execution_count": null,
   "metadata": {},
   "outputs": [],
   "source": [
    "def funcao(a,b):\n",
    "  if b == 0:\n",
    "    return a\n",
    "  return funcao (b, a % b)\n",
    "\n",
    "print(\"funcao 10 e 5 --> %d\" % funcao(10,5))\n",
    "print(\"funcao 32 e 24 --> %d\" % funcao(32,24))\n",
    "print(\"funcao 5 e 3 --> %d\" % funcao(5,3))"
   ]
  },
  {
   "cell_type": "code",
   "execution_count": null,
   "metadata": {},
   "outputs": [],
   "source": [
    "def area_quadrado(l):\n",
    "    return l ** 2\n",
    "\n",
    "print(\"area_quadrado(4) == 16 -> obtido: %s\" % area_quadrado(4))\n",
    "print(\"area_quadrado(9) == 81 -> obtido: %s\" % area_quadrado(9))"
   ]
  },
  {
   "cell_type": "code",
   "execution_count": null,
   "metadata": {},
   "outputs": [],
   "source": [
    "def area_retangulo(comp, larg):\n",
    "  return comp * larg\n",
    "print(' A área é {}'.format(area_retangulo (2,4)))"
   ]
  },
  {
   "cell_type": "code",
   "execution_count": null,
   "metadata": {},
   "outputs": [],
   "source": [
    "# Módulo(%), é o operador que extrai o resto da divisão\n",
    "def multiplo(a,b):\n",
    "  return a % b == 0\n",
    "\n",
    "print(\"multiplo(8,4) == True -> obtido: %s\" % multiplo(8,4))\n",
    "print(\"multiplo(7,3) == False -> obtido: %s\" % multiplo(7,3))\n",
    "print(\"multiplo(5,5) == True -> obtido: %s\" % multiplo(5,5))"
   ]
  },
  {
   "cell_type": "markdown",
   "metadata": {},
   "source": [
    "Arrays"
   ]
  },
  {
   "cell_type": "code",
   "execution_count": null,
   "metadata": {},
   "outputs": [],
   "source": [
    "'''\n",
    "for in range = loop em sequência\n",
    "Ex.: for item in range(10):\n",
    "       print(item)\n",
    "'''\n",
    "#ou:\n",
    "for item in range(9, -1, -1):\n",
    "    print(item)\n",
    "# Q é a msm lista só q invertida"
   ]
  },
  {
   "cell_type": "code",
   "execution_count": null,
   "metadata": {},
   "outputs": [],
   "source": [
    "import numpy as np\n",
    "vector=np.array([[1,2,3,876786],[5,4,9,56]])\n",
    "n=vector.shape\n",
    "type(n)\n",
    "for i in range(n[0]):\n",
    "  for j in range(n[1]):\n",
    "    print(vector[i][j])"
   ]
  },
  {
   "cell_type": "code",
   "execution_count": null,
   "metadata": {},
   "outputs": [],
   "source": [
    "import numpy as np\n",
    "a1=np.array([[1,2,3,876786],[5,4,9,56]])\n",
    "a2=np.array([[2,2.4,7.9,876786],[5,4,9,56]])\n",
    "n=a1.shape\n",
    "filas=n[0]\n",
    "colunas=n[1]\n",
    "res=np.zeros((filas,colunas))\n",
    "type(n)\n",
    "for i in range(filas):\n",
    "  for j in range(colunas):\n",
    "    res[i][j]=a1[i][j]+a2[i][j]\n",
    "print(res)"
   ]
  },
  {
   "cell_type": "code",
   "execution_count": null,
   "metadata": {},
   "outputs": [],
   "source": [
    "string1=\"string\"\n",
    "a=tuple(string1)\n",
    "print(a)\n",
    "print(a[5])"
   ]
  },
  {
   "cell_type": "code",
   "execution_count": null,
   "metadata": {},
   "outputs": [],
   "source": [
    "tuple1=(\"disco\",10,1.2)\n",
    "tuple2=tuple1+(\"hard rock\",10)\n",
    "print(tuple2)\n",
    "print(tuple2[3:5])"
   ]
  },
  {
   "cell_type": "code",
   "execution_count": null,
   "metadata": {},
   "outputs": [],
   "source": [
    "def soma(L):\n",
    "      total=0\n",
    "#\"percorrer a lista\" e=variável/elementos L=lista\n",
    "  for e in L:\n",
    "    total+=e\n",
    "  return total\n",
    "\n",
    "L=[1,7,2,9,15]\n",
    "print(soma(L))\n",
    "print(soma([7,9,12,3,100,20,4]))"
   ]
  },
  {
   "cell_type": "code",
   "execution_count": null,
   "metadata": {},
   "outputs": [],
   "source": [
    "import random\n",
    "lista = random.sample(range(0, 30), 15)\n",
    "liusta=[0.5,1,4.5,7,2.3,4.5,0.5]\n",
    "ord=lista.copy()\n",
    "for i,x in enumerate(lista):\n",
    "  j=i\n",
    "\n",
    "  while (j<len(lista)):\n",
    "    if i!=j:\n",
    "      a=ord[i]\n",
    "      b=ord[j]\n",
    "      if a>b:\n",
    "        ord[i]=b\n",
    "        ord[j]=a\n",
    "      j=j+1\n",
    "print(p)"
   ]
  },
  {
   "cell_type": "code",
   "execution_count": null,
   "metadata": {},
   "outputs": [],
   "source": [
    "# ultilizando \"collections module\"\n",
    "from collections import Counter,OrderedDict\n",
    "list = [\"a\",\"c\",\"c\",\"a\",\"b\",\"a\",\"a\",\"b\",\"c\"]\n",
    "cnt = Counter(list)\n",
    "od = OrderedDict(cnt.most_common())\n",
    "for key, value in od.items():\n",
    "  print(key, value)"
   ]
  },
  {
   "cell_type": "markdown",
   "metadata": {},
   "source": [
    "Fatorial"
   ]
  },
  {
   "cell_type": "code",
   "execution_count": null,
   "metadata": {},
   "outputs": [],
   "source": [
    "def funcion(n):\n",
    "      value = 1\n",
    "  while n > 1:\n",
    "    value *= n\n",
    "    n-=1\n",
    "  return value\n",
    "\n",
    "for x in range(7):\n",
    "  print(\"funcion(%d) = %d\" % (x,funcion(x)))"
   ]
  },
  {
   "cell_type": "markdown",
   "metadata": {},
   "source": [
    "Fibonacci\n",
    "\n",
    "Fn = Fn-1 + Fn-2\n",
    " 0 1 1 2 3 5 8 13...\n",
    "Ex.: F2 = F1 + F0\n",
    "     F3 = F2 + F1...\n",
    "\n",
    "F0 = 0\n",
    "F1 = 1\n",
    "F2 = 1+0 = 1\n",
    "F3 = 1+1 = 2\n",
    "F4 = 2+1 = 3\n",
    "F5 = 3+2 = 5"
   ]
  },
  {
   "cell_type": "code",
   "execution_count": null,
   "metadata": {},
   "outputs": [],
   "source": [
    "def funcion(n):\n",
    "      if n==0:\n",
    "    return 0\n",
    "  elif (n==1):\n",
    "    return 1\n",
    "  else:\n",
    "    i=2\n",
    "    fnew=0\n",
    "    fold=1\n",
    "    foldd=0\n",
    "    while i<=n:\n",
    "      fnew=fold+foldd\n",
    "      foldd=fold\n",
    "      fold=fnew\n",
    "      i=i+1\n",
    "  return fnew\n",
    "for x in range(0,10):\n",
    "  print(\"F(%d) = %d\" % (x,funcion(x)))"
   ]
  },
  {
   "cell_type": "markdown",
   "metadata": {},
   "source": [
    "Ideia 2:\n",
    "\n",
    "def fib(n)\n",
    "    return fib(n-1) + fib(n-2)\n",
    "\n",
    "Ex.: n=2\n",
    "def fib(2)\n",
    "    return fib(2-1) + fib(2-2)\n",
    "               1    +    0"
   ]
  },
  {
   "cell_type": "code",
   "execution_count": null,
   "metadata": {},
   "outputs": [],
   "source": [
    "def fib(n):\n",
    "      if n==0:\n",
    "    return 0\n",
    "  elif n==1:\n",
    "    return 1\n",
    "  else:\n",
    "    return fib(n-1)+fib(n-2)\n",
    "n = int(input(\"Fibonacci de \"))\n",
    "print(fib(n))"
   ]
  },
  {
   "cell_type": "markdown",
   "metadata": {},
   "source": [
    "Funções"
   ]
  },
  {
   "cell_type": "code",
   "execution_count": null,
   "metadata": {},
   "outputs": [],
   "source": [
    "import numpy as np\n",
    "import matplotlib.pyplot as plt\n",
    "import math\n",
    "\n",
    "def f1(x):\n",
    "  return np.exp(-0.2*x)*np.sin(3*x-0.5)\n",
    "\n",
    "a=0\n",
    "b=1\n",
    "x=np.arange(a,b,0.01)\n",
    "plt.plot(x,f2(x))\n",
    "plt.grid()\n",
    "plt.show()"
   ]
  },
  {
   "cell_type": "code",
   "execution_count": null,
   "metadata": {},
   "outputs": [],
   "source": [
    "# 3 funções em um gráfico\n",
    "def f(x):\n",
    "  return np.exp(x)\n",
    "def g(x):\n",
    "  return 2-x**2\n",
    "def h(x):\n",
    "  return np.exp(x)+x**2-2\n",
    "a=0\n",
    "b=1\n",
    "x=np.arange(a,b,0.01)\n",
    "# r=red b=blue\n",
    "plt.plot(x,f(x),'b',x,g(x),'r',x,h(x))\n",
    "plt.grid()\n",
    "plt.show()"
   ]
  },
  {
   "cell_type": "markdown",
   "metadata": {},
   "source": [
    "Raízes: refinamentos de zeros\n",
    "\n",
    "Inicialização: dados\n",
    "Atualização: aproximação\n",
    "Parada: módulo\n",
    "\n",
    "Fluxograma\n",
    "\n",
    "INÍCIO\n",
    "Dados\n",
    "Cálculos iniciais\n",
    "K = 1\n",
    "Cálculo da nova aproximação\n",
    "\n",
    "Aproximaçao do zero? -> SIM ->  Cálculos finais -> TÉRMINO\n",
    "                     -> NÃO ->  K=K+1 -> Cálculos intermediários"
   ]
  },
  {
   "cell_type": "markdown",
   "metadata": {},
   "source": [
    "MÉTODO DA BISSEÇÃO\n",
    "É basicamente dar zoom no gráfico\n",
    "\n",
    "K=número de interações\n",
    "Xl=limite inferior\n",
    "Xu=limite superior\n",
    "Xr=ponto médio\n",
    "Ea=erro absoluto\n",
    "\n",
    "1 inter Xl--------------------Xr--------------------Xu\n",
    "2 inter Xl---------Xr---------Xu\n",
    "3 inter Xl----Xr----Xu\n",
    "4 inter Xl-Xr-Xu\n",
    "\n",
    "Xr=Xl+Xu/2\n",
    "\n",
    "Cálculo do erro absoluto:\n",
    "|Ea|=| Xr(novo)-Xr(velho)/Xr(novo) | * 100%\n",
    "\n",
    "f(Xl)*f(Xu) < 0\n",
    "Qnd f(a)*f(Xr) < 0: a=a b=Xr [a,Xr]\n",
    "Qnd f(b)*f(Xr) < 0: a=Xr b=b [Xr,b]"
   ]
  },
  {
   "cell_type": "markdown",
   "metadata": {},
   "source": [
    "Xr(velho)=Xl\n",
    "Xr(novo)=Xl-Xu/2\n",
    "\n",
    "if f(Xl)f(Xr(novo)) < 0\n",
    "       Xu=Xr(novo)\n",
    " else:\n",
    "       Xl=Xr(novo)\n",
    " |Ea|=|Xr(novo)-Xr(velho)/Xr(novo)|*100%\n",
    " if Ea<=Es\n",
    "     break\n",
    "\n",
    "Obs.: Es= erro esperado = 0.0001\n",
    "\n",
    "Ex.: encontre uma aproximação para √2 com erro inferior a 10^-2\n",
    "e com f(x)=x^2-2 ; [0,2]\n",
    "\n",
    "x^2-2=0\n",
    "x=+-√2\n",
    "Es=10^-2"
   ]
  },
  {
   "cell_type": "code",
   "execution_count": null,
   "metadata": {},
   "outputs": [],
   "source": [
    "import numpy as np\n",
    "import matplotlib.pyplot as plt\n",
    "import math\n",
    "\n",
    "def f(x):\n",
    "  return x**2-2\n",
    "\n",
    "def bissection(xl,xu,es,max_iter):\n",
    "\n",
    "  it=0\n",
    "  xr_novo=xl\n",
    "  ea=100\n",
    "  while (1):\n",
    "    xr_velho=xr_novo\n",
    "    xr_novo=(xl+xu)/2\n",
    "\n",
    "    if xr_novo!=0:\n",
    "      ea=math.fabs((xr_novo-xr_velho)/xr_novo)*100\n",
    "\n",
    "    it=it+1\n",
    "    print(f\"iter=> {it}; xl=> {xl}; xu=> {xu}; xr=>{xr_novo}; Ea=>{ea}\")\n",
    "\n",
    "    '''\n",
    "    if f(xl)*f(xr_novo)<0:\n",
    "      xu=xr_novo\n",
    "    elif f(xu)*f(xr_novo)<0:\n",
    "      xl=xr_novo\n",
    "    else:\n",
    "      ea=0\n",
    "      break\n",
    "    '''\n",
    "\n",
    "    if f(xl)*f(xr_novo)<0:\n",
    "      xu=xr_novo\n",
    "    elif f(xl)*f(xr_novo)>0:\n",
    "      xl=xr_novo\n",
    "    else:\n",
    "      ea=0\n",
    "      break\n",
    "\n",
    "    if (ea<=es or it>=max_iter):\n",
    "      break\n",
    "  raiz=xr_novo\n",
    "  return raiz,ea\n",
    "a=0\n",
    "b=2\n",
    "x=np.arange(a,b,0.1)\n",
    "\n",
    "max_iter=50\n",
    "es=0.01\n",
    "raiz,ea=bissection(a,b,es,max_iter)\n",
    "\n",
    "plt.plot(x,f(x))\n",
    "plt.grid()\n",
    "plt.show()"
   ]
  },
  {
   "cell_type": "markdown",
   "metadata": {},
   "source": [
    "+"
   ]
  },
  {
   "cell_type": "code",
   "execution_count": null,
   "metadata": {},
   "outputs": [],
   "source": [
    "E=16\n",
    "RL=1.67e3\n",
    "RS=1e3\n",
    "VZ=10\n",
    "PZM=30e-3\n",
    "\n",
    "VA=RL*E/(RS+RL)\n",
    "print(f\"VA= {VA}\\n\")\n",
    "\n",
    "if VA<VZ:\n",
    "  print(\"Diodo zener desligado\\n\")\n",
    "  IRS=E/(RS+RL)\n",
    "  IRL=IRS\n",
    "  VL=RL*E/(RS+RL)\n",
    "  IZ=0\n",
    "  PZ=IZ*VZ\n",
    "  VRS=RS*E/(RS+RL)\n",
    "else:\n",
    "  print(\"Diodo zener ligado\")\n",
    "  VL=VZ\n",
    "  IRS=(E-VZ)/RS\n",
    "  IRL=VZ/RL\n",
    "  IZ=IRS-IRL\n",
    "  PZ=IZ*VZ\n",
    "  VRS=E-VZ\n",
    "\n",
    "print(f\"IRS=> {IRS}\\nIRL=> {IRL}\\nVRL=> {VL}\\nVRS=> {VRS}\\nIZ=> {IZ}\\nPZ=> {PZ}\")\n",
    "if PZ>PZM:\n",
    "  print(\"Diodo danificado\")\n",
    "else:\n",
    "  print(\"Diodo de boa\")"
   ]
  }
 ],
 "metadata": {
  "kernelspec": {
   "display_name": "Python 3",
   "language": "python",
   "name": "python3"
  },
  "language_info": {
   "name": "python",
   "version": "3.12.5"
  }
 },
 "nbformat": 4,
 "nbformat_minor": 2
}
