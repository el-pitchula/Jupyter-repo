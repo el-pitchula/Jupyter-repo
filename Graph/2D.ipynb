{
 "cells": [
  {
   "cell_type": "code",
   "execution_count": null,
   "metadata": {},
   "outputs": [],
   "source": [
    "import numpy as np\n",
    "import matplotlib.pyplot as plt\n",
    "\n",
    "x=np.arange(-2,2,0.1)\n",
    "f=np.sin(x)\n",
    "\n",
    "plt.plot(x,f)"
   ]
  },
  {
   "cell_type": "code",
   "execution_count": null,
   "metadata": {},
   "outputs": [],
   "source": [
    "import numpy as np\n",
    "import matplotlib.pyplot as plt\n",
    "\n",
    "x=np.arange(-2,2,0.1)\n",
    "f=np.sin(x)\n",
    "\n",
    "plt.plot(x,f)\n",
    "plt.grid()\n",
    "plt.xlabel('x')\n",
    "plt.ylabel('f(x)')\n",
    "plt.title('Sine wave')\n",
    "#ou plt.title('sin(x)')\n",
    "plt.show()"
   ]
  },
  {
   "cell_type": "code",
   "execution_count": null,
   "metadata": {},
   "outputs": [],
   "source": [
    "import numpy as np\n",
    "import matplotlib.pyplot as plt\n",
    "\n",
    "def funcao1(x):\n",
    "  return np.sin(x)\n",
    "def funcao2(x):\n",
    "  return np.cos(x)\n",
    "\n",
    "x=np.arange(-2,2,0.1)\n",
    "f1=funcao1(x)\n",
    "f2=funcao2(x)\n",
    "\n",
    "plt.plot(x,f1,x,f2)\n",
    "plt.grid()\n",
    "plt.xlabel('x')\n",
    "plt.ylabel('f(x)')\n",
    "plt.title('Sine and Cosine')\n",
    "plt.show()"
   ]
  },
  {
   "cell_type": "code",
   "execution_count": null,
   "metadata": {},
   "outputs": [],
   "source": [
    "import numpy as np\n",
    "import matplotlib.pyplot as plt\n",
    "\n",
    "def funcao1(x):\n",
    "  return np.sin(x)\n",
    "def funcao2(x):\n",
    "  return np.cos(x)\n",
    "\n",
    "x=np.arange(-2,2,0.1)\n",
    "f1=funcao1(x)\n",
    "f2=funcao2(x)\n",
    "\n",
    "plt.plot(x,f1,x,f2)\n",
    "plt.grid()\n",
    "plt.xlabel('x')\n",
    "plt.ylabel('f(x)')\n",
    "plt.title('Sine and Cosine')\n",
    "plt.show()"
   ]
  },
  {
   "cell_type": "code",
   "execution_count": null,
   "metadata": {},
   "outputs": [],
   "source": [
    "import numpy as np\n",
    "import matplotlib.pyplot as plt\n",
    "import math\n",
    "\n",
    "t = np.arange(-math.pi, math.pi, 0.001)\n",
    "\n",
    "x = np.cos(31.4159265358979*t - 5.75958653158129)\n",
    "y = np.cos(78.5398163397448*t)\n",
    "\n",
    "plt.plot(x ,y)\n",
    "#plt.plot(t, y)\n",
    "plt.show()"
   ]
  },
  {
   "cell_type": "code",
   "execution_count": null,
   "metadata": {},
   "outputs": [],
   "source": [
    "import numpy as np\n",
    "import matplotlib.pyplot as plt\n",
    "import math\n",
    "\n",
    "w=377\n",
    "vm=25\n",
    "R=10\n",
    "im=vm/R\n",
    "theta=60*math.pi/180\n",
    "\n",
    "t=np.arange(-0.03, 0.03, 0.00001)\n",
    "\n",
    "v=vm*np.sin(w*t+theta)\n",
    "i=im*np.sin(w*t+theta)\n",
    "\n",
    "plt.plot(t,v,t,i)\n",
    "plt.grid()\n",
    "plt.show()"
   ]
  }
 ],
 "metadata": {
  "language_info": {
   "name": "python"
  }
 },
 "nbformat": 4,
 "nbformat_minor": 2
}
