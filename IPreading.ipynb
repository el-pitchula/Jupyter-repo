{
 "cells": [
  {
   "cell_type": "code",
   "execution_count": null,
   "metadata": {},
   "outputs": [],
   "source": [
    "# Considere uma lista de endereços de servidores:\n",
    "#servers = [\\\"127.168.93.1:80\\\",\\\"localhost:8080\\\",\\\"0.0.0.0:443\\\",\\\"168.193.1.3:5000\\\"]\n",
    "# Escreva uma função chamada ler_endereco que leia essa lista como entrada, printa o ip e a porta de cada endereço.\n",
    "# Sua função deve retornar duas listas uma contendo os ips e outra contendo\n",
    "# *Dica: Lembre-se do método find()\n",
    "\n",
    "# O objetivo é o código ler uma lista de endereços de servidores, extrai informações sobre IPs e portas,\n",
    "# escreve essas informações em um arquivo de texto e verifica se os resultados estão corretos.\n",
    "# para poder saber quais servidores estão sendo usados e em quais portas eles estão ativos.\n",
    "\n",
    "def escrever_em_arquivo(nome_arquivo, ips, portas):\n",
    "    with open(nome_arquivo, 'w') as arquivo: # 'w' é o modo de escrita ((abre arquivo) com loop p/percorrer ips e portas)\n",
    "        for ip, porta in zip(ips, portas):\n",
    "            linha = f\"IP: {ip}, Porta: {porta}\\n\"\n",
    "            arquivo.write(linha) # (fecha arquivo)\n",
    "# Para cada par de IP e porta, cria uma linha de texto no formato \"IP: {IP}, Porta: {Porta}\\n\"\n",
    "# (onde <IP> e <Porta> são substituídos pelos valores reais).\n",
    "# ou seja, usa o nome do arquivo, as listas de IPs e portas para criar um arquivo de texto que contém informações sobre IPs e portas!\n",
    "\n",
    "def ler_endereco(servers): # percorre cada endereço da lista\n",
    "    ips = [] # armazena IPs\n",
    "    portas = []\n",
    "    for endereco in servers:\n",
    "        ip_porta = endereco.split(':') #':' p/separar o IP da porta\n",
    "        ip = ip_porta[0]\n",
    "        porta = ip_porta[1]\n",
    "        ips.append(ip) # '.append' adiciona o elemento ao final da lista\n",
    "        portas.append(porta)\n",
    "        print(\"IP:\", ip, \"Porta:\", porta) # para cada endereço, imprime o IP e a porta\n",
    "    return ips, portas\n",
    "# a função percorre a lista de endereços de servidores e separa cada endereço em IP e porta\n",
    "# ela armazena essas informações nas listas ips e portas e imprime cada IP e porta\n",
    "\n",
    "# Lista de endereços de servidores\n",
    "servers = [\"127.168.93.1:80\", \"localhost:8080\", \"0.0.0.0:443\", \"168.193.1.3:5000\"]\n",
    "\n",
    "# Chamando a função para escrever em um arquivo\n",
    "nome_arquivo = \"ips_e_portas.txt\"\n",
    "ips, portas = ler_endereco(servers) # processa a lista de servidores e extrai os IPs e portas (as informações são armazenadas nas listas ips e portas)\n",
    "escrever_em_arquivo(nome_arquivo, ips, portas) # cria um arquivo de texto chamado ips_e_portas.txt que contém informações sobre os IPs e portas\n",
    "\n",
    "# Testando a função com a asserção\n",
    "assert ler_endereco(servers) == (['127.168.93.1', 'localhost', '0.0.0.0', '168.193.1.3'],\n",
    "                                  ['80', '8080', '443', '5000']) or \\\n",
    "       ler_endereco(servers) == (['80', '8080', '443', '5000'],\n",
    "                                  ['127.168.93.1', 'localhost', '0.0.0.0', '168.193.1.3'])\n",
    "\n",
    "print(\"Exercício 5 está correto.\")"
   ]
  }
 ],
 "metadata": {
  "language_info": {
   "name": "python"
  }
 },
 "nbformat": 4,
 "nbformat_minor": 2
}
