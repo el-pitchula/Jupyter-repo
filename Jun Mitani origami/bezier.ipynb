{
 "cells": [
  {
   "cell_type": "code",
   "execution_count": null,
   "metadata": {},
   "outputs": [],
   "source": [
    "import numpy as np\n",
    "import matplotlib.pyplot as plt\n",
    "\n",
    "def bezier_curve(points, num_points=100):\n",
    "    n = len(points) - 1\n",
    "    t = np.linspace(0, 1, num_points)\n",
    "    curve = np.zeros((num_points, 2))\n",
    "    for i in range(n + 1):\n",
    "        binomial_coeff = np.math.comb(n, i)\n",
    "        curve += binomial_coeff * (1 - t)**(n - i) * t**i * np.array(points[i])\n",
    "    return curve\n",
    "\n",
    "# Exemplo de uso\n",
    "points = [(0, 0), (1, 2), (3, 3), (4, 0)]\n",
    "curve = bezier_curve(points)\n",
    "plt.plot(curve[:, 0], curve[:, 1])\n",
    "plt.plot(*zip(*points), 'ro-')\n",
    "plt.show()"
   ]
  },
  {
   "cell_type": "code",
   "execution_count": null,
   "metadata": {},
   "outputs": [],
   "source": [
    "def fold_pattern(grid, fold_line):\n",
    "    # Supondo uma grade 2D e uma linha de dobra, esta função aplicará a dobra\n",
    "    # A lógica de dobra precisa ser ajustada conforme o design específico\n",
    "    pass  # Implementar a lógica específica aqui"
   ]
  },
  {
   "cell_type": "code",
   "execution_count": null,
   "metadata": {},
   "outputs": [],
   "source": [
    "def rotate_point(point, angle, origin=(0, 0)):\n",
    "    # Rota um ponto ao redor de uma origem\n",
    "    ox, oy = origin\n",
    "    px, py = point\n",
    "\n",
    "    qx = ox + np.cos(angle) * (px - ox) - np.sin(angle) * (py - oy)\n",
    "    qy = oy + np.sin(angle) * (px - ox) + np.cos(angle) * (py - oy)\n",
    "    return qx, qy"
   ]
  },
  {
   "cell_type": "code",
   "execution_count": null,
   "metadata": {},
   "outputs": [],
   "source": [
    "import trimesh\n",
    "\n",
    "# Exemplo de criação de uma superfície e planificação\n",
    "mesh = trimesh.creation.icosphere()  # Cria uma esfera como exemplo\n",
    "unfolded = trimesh.Trimesh(vertices=mesh.vertices, faces=mesh.faces)\n",
    "unfolded.export('unfolded.obj')  # Exporta o padrão planificado"
   ]
  },
  {
   "cell_type": "code",
   "execution_count": null,
   "metadata": {},
   "outputs": [],
   "source": [
    "# Usando plotly para visualização 3D\n",
    "import plotly.graph_objects as go\n",
    "\n",
    "def plot_3d_surface(x, y, z):\n",
    "    fig = go.Figure(data=[go.Surface(z=z, x=x, y=y)])\n",
    "    fig.show()\n",
    "\n",
    "# Exemplo de uso com dados simulados\n",
    "x, y = np.meshgrid(np.linspace(-2, 2, 100), np.linspace(-2, 2, 100))\n",
    "z = np.sin(x**2 + y**2)\n",
    "plot_3d_surface(x, y, z)"
   ]
  }
 ],
 "metadata": {
  "language_info": {
   "name": "python"
  },
  "orig_nbformat": 4
 },
 "nbformat": 4,
 "nbformat_minor": 2
}
